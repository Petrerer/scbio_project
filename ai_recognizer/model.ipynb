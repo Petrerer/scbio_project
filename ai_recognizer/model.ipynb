{
 "cells": [
  {
   "cell_type": "markdown",
   "id": "dbe5ec0f",
   "metadata": {},
   "source": [
    "# Rock Paper Scissors Model"
   ]
  },
  {
   "cell_type": "code",
   "execution_count": 1,
   "id": "97d6dcfd",
   "metadata": {},
   "outputs": [],
   "source": [
    "\n",
    "import tensorflow as tf\n",
    "from tensorflow.keras import layers, models\n",
    "from tensorflow.keras.preprocessing.image import ImageDataGenerator\n",
    "from tensorflow.keras.applications import MobileNetV2"
   ]
  },
  {
   "cell_type": "code",
   "execution_count": 2,
   "id": "02afca2d",
   "metadata": {},
   "outputs": [
    {
     "name": "stdout",
     "output_type": "stream",
     "text": [
      "Found 1021 images belonging to 3 classes.\n",
      "Found 254 images belonging to 3 classes.\n"
     ]
    },
    {
     "name": "stderr",
     "output_type": "stream",
     "text": [
      "C:\\Users\\franc\\AppData\\Local\\Temp\\ipykernel_24284\\1970042857.py:41: UserWarning: `input_shape` is undefined or non-square, or `rows` is not in [96, 128, 160, 192, 224]. Weights for input shape (224, 224) will be loaded as the default.\n",
      "  base_model = MobileNetV2(input_shape=(img_height, img_width, 3),\n",
      "c:\\Users\\franc\\AppData\\Local\\Programs\\Python\\Python311\\Lib\\site-packages\\keras\\src\\trainers\\data_adapters\\py_dataset_adapter.py:121: UserWarning: Your `PyDataset` class should call `super().__init__(**kwargs)` in its constructor. `**kwargs` can include `workers`, `use_multiprocessing`, `max_queue_size`. Do not pass these arguments to `fit()`, as they will be ignored.\n",
      "  self._warn_if_super_not_called()\n"
     ]
    },
    {
     "name": "stdout",
     "output_type": "stream",
     "text": [
      "Epoch 1/15\n",
      "\u001b[1m128/128\u001b[0m \u001b[32m━━━━━━━━━━━━━━━━━━━━\u001b[0m\u001b[37m\u001b[0m \u001b[1m57s\u001b[0m 367ms/step - accuracy: 0.6899 - loss: 0.7982 - val_accuracy: 0.8976 - val_loss: 0.2604\n",
      "Epoch 2/15\n",
      "\u001b[1m128/128\u001b[0m \u001b[32m━━━━━━━━━━━━━━━━━━━━\u001b[0m\u001b[37m\u001b[0m \u001b[1m29s\u001b[0m 228ms/step - accuracy: 0.9285 - loss: 0.1834 - val_accuracy: 0.8425 - val_loss: 0.4365\n",
      "Epoch 3/15\n",
      "\u001b[1m128/128\u001b[0m \u001b[32m━━━━━━━━━━━━━━━━━━━━\u001b[0m\u001b[37m\u001b[0m \u001b[1m29s\u001b[0m 227ms/step - accuracy: 0.9295 - loss: 0.1834 - val_accuracy: 0.9055 - val_loss: 0.2258\n",
      "Epoch 4/15\n",
      "\u001b[1m128/128\u001b[0m \u001b[32m━━━━━━━━━━━━━━━━━━━━\u001b[0m\u001b[37m\u001b[0m \u001b[1m29s\u001b[0m 227ms/step - accuracy: 0.9170 - loss: 0.2281 - val_accuracy: 0.8937 - val_loss: 0.2551\n",
      "Epoch 5/15\n",
      "\u001b[1m128/128\u001b[0m \u001b[32m━━━━━━━━━━━━━━━━━━━━\u001b[0m\u001b[37m\u001b[0m \u001b[1m28s\u001b[0m 216ms/step - accuracy: 0.9657 - loss: 0.0977 - val_accuracy: 0.9252 - val_loss: 0.2091\n",
      "Epoch 6/15\n",
      "\u001b[1m128/128\u001b[0m \u001b[32m━━━━━━━━━━━━━━━━━━━━\u001b[0m\u001b[37m\u001b[0m \u001b[1m28s\u001b[0m 218ms/step - accuracy: 0.9544 - loss: 0.1614 - val_accuracy: 0.8780 - val_loss: 0.3524\n",
      "Epoch 7/15\n",
      "\u001b[1m128/128\u001b[0m \u001b[32m━━━━━━━━━━━━━━━━━━━━\u001b[0m\u001b[37m\u001b[0m \u001b[1m28s\u001b[0m 220ms/step - accuracy: 0.9599 - loss: 0.1181 - val_accuracy: 0.8976 - val_loss: 0.2937\n",
      "Epoch 8/15\n",
      "\u001b[1m128/128\u001b[0m \u001b[32m━━━━━━━━━━━━━━━━━━━━\u001b[0m\u001b[37m\u001b[0m \u001b[1m29s\u001b[0m 229ms/step - accuracy: 0.9655 - loss: 0.1037 - val_accuracy: 0.9055 - val_loss: 0.2451\n",
      "Epoch 9/15\n",
      "\u001b[1m128/128\u001b[0m \u001b[32m━━━━━━━━━━━━━━━━━━━━\u001b[0m\u001b[37m\u001b[0m \u001b[1m30s\u001b[0m 234ms/step - accuracy: 0.9553 - loss: 0.1335 - val_accuracy: 0.8465 - val_loss: 0.3668\n",
      "Epoch 10/15\n",
      "\u001b[1m128/128\u001b[0m \u001b[32m━━━━━━━━━━━━━━━━━━━━\u001b[0m\u001b[37m\u001b[0m \u001b[1m30s\u001b[0m 233ms/step - accuracy: 0.9600 - loss: 0.1280 - val_accuracy: 0.8898 - val_loss: 0.3024\n",
      "Epoch 11/15\n",
      "\u001b[1m128/128\u001b[0m \u001b[32m━━━━━━━━━━━━━━━━━━━━\u001b[0m\u001b[37m\u001b[0m \u001b[1m29s\u001b[0m 226ms/step - accuracy: 0.9677 - loss: 0.0916 - val_accuracy: 0.8858 - val_loss: 0.4286\n",
      "Epoch 12/15\n",
      "\u001b[1m128/128\u001b[0m \u001b[32m━━━━━━━━━━━━━━━━━━━━\u001b[0m\u001b[37m\u001b[0m \u001b[1m29s\u001b[0m 229ms/step - accuracy: 0.9634 - loss: 0.0816 - val_accuracy: 0.9173 - val_loss: 0.2014\n",
      "Epoch 13/15\n",
      "\u001b[1m128/128\u001b[0m \u001b[32m━━━━━━━━━━━━━━━━━━━━\u001b[0m\u001b[37m\u001b[0m \u001b[1m29s\u001b[0m 226ms/step - accuracy: 0.9747 - loss: 0.0952 - val_accuracy: 0.8346 - val_loss: 0.4660\n",
      "Epoch 14/15\n",
      "\u001b[1m128/128\u001b[0m \u001b[32m━━━━━━━━━━━━━━━━━━━━\u001b[0m\u001b[37m\u001b[0m \u001b[1m29s\u001b[0m 228ms/step - accuracy: 0.9761 - loss: 0.0617 - val_accuracy: 0.8622 - val_loss: 0.3457\n",
      "Epoch 15/15\n",
      "\u001b[1m128/128\u001b[0m \u001b[32m━━━━━━━━━━━━━━━━━━━━\u001b[0m\u001b[37m\u001b[0m \u001b[1m30s\u001b[0m 232ms/step - accuracy: 0.9698 - loss: 0.0770 - val_accuracy: 0.8228 - val_loss: 0.5456\n"
     ]
    },
    {
     "name": "stderr",
     "output_type": "stream",
     "text": [
      "WARNING:absl:You are saving your model as an HDF5 file via `model.save()` or `keras.saving.save_model(model)`. This file format is considered legacy. We recommend using instead the native Keras format, e.g. `model.save('my_model.keras')` or `keras.saving.save_model(model, 'my_model.keras')`. \n"
     ]
    }
   ],
   "source": [
    "\n",
    "# Parameters\n",
    "img_height = 180\n",
    "img_width = 180\n",
    "batch_size = 8\n",
    "num_classes = 3\n",
    "\n",
    "# Data preparation\n",
    "train_datagen = ImageDataGenerator(\n",
    "    rescale=1./255,          # <-- IMPORTANT, rescale pixel values [0,255] -> [0,1]\n",
    "    validation_split=0.2,\n",
    "    rotation_range=30,       # Slightly higher rotation\n",
    "    width_shift_range=0.2,   # More aggressive shift (hands move a lot)\n",
    "    height_shift_range=0.2,\n",
    "    zoom_range=0.2,          # Hands can be closer/farther\n",
    "    horizontal_flip=True,    # Mirror image is valid\n",
    "    brightness_range=[0.7, 1.3]  # Simulate different lighting\n",
    ")\n",
    "\n",
    "train_generator = train_datagen.flow_from_directory(\n",
    "    'dataset_train/',\n",
    "    target_size=(img_height, img_width),\n",
    "    batch_size=batch_size,\n",
    "    class_mode='categorical',\n",
    "    subset='training'\n",
    ")\n",
    "\n",
    "validation_datagen = ImageDataGenerator(\n",
    "    rescale=1./255,\n",
    "    validation_split=0.2\n",
    ")\n",
    "\n",
    "validation_generator = validation_datagen.flow_from_directory(\n",
    "    'dataset_train/',\n",
    "    target_size=(img_height, img_width),\n",
    "    batch_size=batch_size,\n",
    "    class_mode='categorical',\n",
    "    subset='validation'\n",
    ")\n",
    "\n",
    "# Model\n",
    "base_model = MobileNetV2(input_shape=(img_height, img_width, 3),\n",
    "                         include_top=False,\n",
    "                         weights='imagenet')\n",
    "\n",
    "# Freeze the base model (so it doesn't retrain)\n",
    "base_model.trainable = False\n",
    "\n",
    "# Build your new model\n",
    "model = models.Sequential([\n",
    "    base_model,\n",
    "    layers.GlobalAveragePooling2D(),\n",
    "    layers.Dense(128, activation='relu'),\n",
    "    layers.Dense(num_classes, activation='softmax')\n",
    "])\n",
    "\n",
    "model.compile(optimizer='adam',\n",
    "              loss='categorical_crossentropy',\n",
    "              metrics=['accuracy'])\n",
    "\n",
    "# Train\n",
    "model.fit(\n",
    "    train_generator,\n",
    "    validation_data=validation_generator,\n",
    "    epochs=15    # <-- A bit more training to take advantage of augmentation\n",
    ")\n",
    "\n",
    "# Save\n",
    "model.save('my_classifier.h5')\n"
   ]
  }
 ],
 "metadata": {
  "kernelspec": {
   "display_name": "Python 3",
   "language": "python",
   "name": "python3"
  },
  "language_info": {
   "codemirror_mode": {
    "name": "ipython",
    "version": 3
   },
   "file_extension": ".py",
   "mimetype": "text/x-python",
   "name": "python",
   "nbconvert_exporter": "python",
   "pygments_lexer": "ipython3",
   "version": "3.11.0"
  }
 },
 "nbformat": 4,
 "nbformat_minor": 5
}
